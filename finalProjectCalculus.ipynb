{
 "cells": [
  {
   "cell_type": "markdown",
   "metadata": {},
   "source": [
    "# Week 6. Optimization. Programming Task"
   ]
  },
  {
   "cell_type": "markdown",
   "metadata": {},
   "source": [
    "Let us consider the **House Pricing** dataset, where you have a lot of information about the houses being sold and you aim to produce the price of the house. \n",
    "\n",
    "Firstly, let us import basic libraries (`numpy` ([docs](https://numpy.org/)) for matrix operations and `pandas` ([docs](https://pandas.pydata.org/)) for convinient dataset workaround):"
   ]
  },
  {
   "cell_type": "code",
   "execution_count": 2,
   "metadata": {},
   "outputs": [],
   "source": [
    "import numpy as np\n",
    "import pandas as pd"
   ]
  },
  {
   "cell_type": "markdown",
   "metadata": {},
   "source": [
    "### Task 1. Reading and Preparing"
   ]
  },
  {
   "cell_type": "code",
   "execution_count": 3,
   "metadata": {},
   "outputs": [
    {
     "data": {
      "text/html": [
       "<div>\n",
       "<style scoped>\n",
       "    .dataframe tbody tr th:only-of-type {\n",
       "        vertical-align: middle;\n",
       "    }\n",
       "\n",
       "    .dataframe tbody tr th {\n",
       "        vertical-align: top;\n",
       "    }\n",
       "\n",
       "    .dataframe thead th {\n",
       "        text-align: right;\n",
       "    }\n",
       "</style>\n",
       "<table border=\"1\" class=\"dataframe\">\n",
       "  <thead>\n",
       "    <tr style=\"text-align: right;\">\n",
       "      <th></th>\n",
       "      <th>date</th>\n",
       "      <th>bedrooms</th>\n",
       "      <th>bathrooms</th>\n",
       "      <th>sqft_living</th>\n",
       "      <th>sqft_lot</th>\n",
       "      <th>floors</th>\n",
       "      <th>waterfront</th>\n",
       "      <th>condition</th>\n",
       "      <th>grade</th>\n",
       "      <th>sqft_above</th>\n",
       "      <th>sqft_basement</th>\n",
       "      <th>yr_built</th>\n",
       "      <th>yr_renovated</th>\n",
       "      <th>zipcode</th>\n",
       "      <th>lat</th>\n",
       "      <th>long</th>\n",
       "    </tr>\n",
       "  </thead>\n",
       "  <tbody>\n",
       "    <tr>\n",
       "      <th>0</th>\n",
       "      <td>2014-09-16</td>\n",
       "      <td>5.0</td>\n",
       "      <td>3.25</td>\n",
       "      <td>3710</td>\n",
       "      <td>34200</td>\n",
       "      <td>2.0</td>\n",
       "      <td>False</td>\n",
       "      <td>3</td>\n",
       "      <td>8</td>\n",
       "      <td>2510</td>\n",
       "      <td>1200</td>\n",
       "      <td>1986</td>\n",
       "      <td>0</td>\n",
       "      <td>98074</td>\n",
       "      <td>47.610100</td>\n",
       "      <td>-122.046997</td>\n",
       "    </tr>\n",
       "    <tr>\n",
       "      <th>1</th>\n",
       "      <td>2014-11-18</td>\n",
       "      <td>3.0</td>\n",
       "      <td>1.75</td>\n",
       "      <td>2820</td>\n",
       "      <td>8879</td>\n",
       "      <td>1.0</td>\n",
       "      <td>False</td>\n",
       "      <td>5</td>\n",
       "      <td>7</td>\n",
       "      <td>1540</td>\n",
       "      <td>1280</td>\n",
       "      <td>1920</td>\n",
       "      <td>1957</td>\n",
       "      <td>98146</td>\n",
       "      <td>47.509399</td>\n",
       "      <td>-122.375999</td>\n",
       "    </tr>\n",
       "    <tr>\n",
       "      <th>2</th>\n",
       "      <td>2014-11-10</td>\n",
       "      <td>3.0</td>\n",
       "      <td>1.00</td>\n",
       "      <td>1240</td>\n",
       "      <td>239144</td>\n",
       "      <td>1.0</td>\n",
       "      <td>False</td>\n",
       "      <td>3</td>\n",
       "      <td>6</td>\n",
       "      <td>1240</td>\n",
       "      <td>0</td>\n",
       "      <td>1921</td>\n",
       "      <td>1992</td>\n",
       "      <td>98038</td>\n",
       "      <td>47.430302</td>\n",
       "      <td>-122.045998</td>\n",
       "    </tr>\n",
       "    <tr>\n",
       "      <th>3</th>\n",
       "      <td>2015-04-16</td>\n",
       "      <td>4.0</td>\n",
       "      <td>2.50</td>\n",
       "      <td>2670</td>\n",
       "      <td>8279</td>\n",
       "      <td>2.0</td>\n",
       "      <td>False</td>\n",
       "      <td>3</td>\n",
       "      <td>7</td>\n",
       "      <td>2670</td>\n",
       "      <td>0</td>\n",
       "      <td>1999</td>\n",
       "      <td>0</td>\n",
       "      <td>98148</td>\n",
       "      <td>47.429199</td>\n",
       "      <td>-122.328003</td>\n",
       "    </tr>\n",
       "    <tr>\n",
       "      <th>4</th>\n",
       "      <td>2014-07-23</td>\n",
       "      <td>3.0</td>\n",
       "      <td>2.25</td>\n",
       "      <td>2700</td>\n",
       "      <td>4025</td>\n",
       "      <td>2.0</td>\n",
       "      <td>False</td>\n",
       "      <td>4</td>\n",
       "      <td>8</td>\n",
       "      <td>1760</td>\n",
       "      <td>940</td>\n",
       "      <td>1907</td>\n",
       "      <td>0</td>\n",
       "      <td>98122</td>\n",
       "      <td>47.607399</td>\n",
       "      <td>-122.293999</td>\n",
       "    </tr>\n",
       "    <tr>\n",
       "      <th>...</th>\n",
       "      <td>...</td>\n",
       "      <td>...</td>\n",
       "      <td>...</td>\n",
       "      <td>...</td>\n",
       "      <td>...</td>\n",
       "      <td>...</td>\n",
       "      <td>...</td>\n",
       "      <td>...</td>\n",
       "      <td>...</td>\n",
       "      <td>...</td>\n",
       "      <td>...</td>\n",
       "      <td>...</td>\n",
       "      <td>...</td>\n",
       "      <td>...</td>\n",
       "      <td>...</td>\n",
       "      <td>...</td>\n",
       "    </tr>\n",
       "    <tr>\n",
       "      <th>14995</th>\n",
       "      <td>2014-05-21</td>\n",
       "      <td>4.0</td>\n",
       "      <td>2.75</td>\n",
       "      <td>2290</td>\n",
       "      <td>6120</td>\n",
       "      <td>2.0</td>\n",
       "      <td>False</td>\n",
       "      <td>4</td>\n",
       "      <td>7</td>\n",
       "      <td>2170</td>\n",
       "      <td>120</td>\n",
       "      <td>1926</td>\n",
       "      <td>0</td>\n",
       "      <td>98115</td>\n",
       "      <td>47.674599</td>\n",
       "      <td>-122.327003</td>\n",
       "    </tr>\n",
       "    <tr>\n",
       "      <th>14996</th>\n",
       "      <td>2015-04-01</td>\n",
       "      <td>3.0</td>\n",
       "      <td>2.00</td>\n",
       "      <td>1430</td>\n",
       "      <td>9250</td>\n",
       "      <td>1.0</td>\n",
       "      <td>False</td>\n",
       "      <td>4</td>\n",
       "      <td>8</td>\n",
       "      <td>990</td>\n",
       "      <td>440</td>\n",
       "      <td>1983</td>\n",
       "      <td>0</td>\n",
       "      <td>98052</td>\n",
       "      <td>47.695202</td>\n",
       "      <td>-122.096001</td>\n",
       "    </tr>\n",
       "    <tr>\n",
       "      <th>14997</th>\n",
       "      <td>2014-07-11</td>\n",
       "      <td>2.0</td>\n",
       "      <td>1.00</td>\n",
       "      <td>640</td>\n",
       "      <td>7768</td>\n",
       "      <td>1.0</td>\n",
       "      <td>False</td>\n",
       "      <td>3</td>\n",
       "      <td>6</td>\n",
       "      <td>640</td>\n",
       "      <td>0</td>\n",
       "      <td>1942</td>\n",
       "      <td>0</td>\n",
       "      <td>98106</td>\n",
       "      <td>47.514999</td>\n",
       "      <td>-122.359001</td>\n",
       "    </tr>\n",
       "    <tr>\n",
       "      <th>14998</th>\n",
       "      <td>2014-05-15</td>\n",
       "      <td>3.0</td>\n",
       "      <td>1.00</td>\n",
       "      <td>1630</td>\n",
       "      <td>10304</td>\n",
       "      <td>1.0</td>\n",
       "      <td>False</td>\n",
       "      <td>5</td>\n",
       "      <td>7</td>\n",
       "      <td>1630</td>\n",
       "      <td>0</td>\n",
       "      <td>1953</td>\n",
       "      <td>0</td>\n",
       "      <td>98155</td>\n",
       "      <td>47.754799</td>\n",
       "      <td>-122.317001</td>\n",
       "    </tr>\n",
       "    <tr>\n",
       "      <th>14999</th>\n",
       "      <td>2014-11-20</td>\n",
       "      <td>2.0</td>\n",
       "      <td>1.00</td>\n",
       "      <td>720</td>\n",
       "      <td>4592</td>\n",
       "      <td>1.0</td>\n",
       "      <td>False</td>\n",
       "      <td>4</td>\n",
       "      <td>6</td>\n",
       "      <td>720</td>\n",
       "      <td>0</td>\n",
       "      <td>1943</td>\n",
       "      <td>0</td>\n",
       "      <td>98199</td>\n",
       "      <td>47.653400</td>\n",
       "      <td>-122.403999</td>\n",
       "    </tr>\n",
       "  </tbody>\n",
       "</table>\n",
       "<p>15000 rows × 16 columns</p>\n",
       "</div>"
      ],
      "text/plain": [
       "             date  bedrooms  bathrooms  sqft_living  sqft_lot  floors  \\\n",
       "0      2014-09-16       5.0       3.25         3710     34200     2.0   \n",
       "1      2014-11-18       3.0       1.75         2820      8879     1.0   \n",
       "2      2014-11-10       3.0       1.00         1240    239144     1.0   \n",
       "3      2015-04-16       4.0       2.50         2670      8279     2.0   \n",
       "4      2014-07-23       3.0       2.25         2700      4025     2.0   \n",
       "...           ...       ...        ...          ...       ...     ...   \n",
       "14995  2014-05-21       4.0       2.75         2290      6120     2.0   \n",
       "14996  2015-04-01       3.0       2.00         1430      9250     1.0   \n",
       "14997  2014-07-11       2.0       1.00          640      7768     1.0   \n",
       "14998  2014-05-15       3.0       1.00         1630     10304     1.0   \n",
       "14999  2014-11-20       2.0       1.00          720      4592     1.0   \n",
       "\n",
       "       waterfront  condition  grade  sqft_above  sqft_basement  yr_built  \\\n",
       "0           False          3      8        2510           1200      1986   \n",
       "1           False          5      7        1540           1280      1920   \n",
       "2           False          3      6        1240              0      1921   \n",
       "3           False          3      7        2670              0      1999   \n",
       "4           False          4      8        1760            940      1907   \n",
       "...           ...        ...    ...         ...            ...       ...   \n",
       "14995       False          4      7        2170            120      1926   \n",
       "14996       False          4      8         990            440      1983   \n",
       "14997       False          3      6         640              0      1942   \n",
       "14998       False          5      7        1630              0      1953   \n",
       "14999       False          4      6         720              0      1943   \n",
       "\n",
       "       yr_renovated  zipcode        lat        long  \n",
       "0                 0    98074  47.610100 -122.046997  \n",
       "1              1957    98146  47.509399 -122.375999  \n",
       "2              1992    98038  47.430302 -122.045998  \n",
       "3                 0    98148  47.429199 -122.328003  \n",
       "4                 0    98122  47.607399 -122.293999  \n",
       "...             ...      ...        ...         ...  \n",
       "14995             0    98115  47.674599 -122.327003  \n",
       "14996             0    98052  47.695202 -122.096001  \n",
       "14997             0    98106  47.514999 -122.359001  \n",
       "14998             0    98155  47.754799 -122.317001  \n",
       "14999             0    98199  47.653400 -122.403999  \n",
       "\n",
       "[15000 rows x 16 columns]"
      ]
     },
     "execution_count": 3,
     "metadata": {},
     "output_type": "execute_result"
    }
   ],
   "source": [
    "datX=np.load('x_train.npy')\n",
    "datY=np.log(np.load('y_train.npy'))\n",
    "datX=pd.DataFrame(datX, columns=datX.dtype.names)\n",
    "y=datY\n",
    "datX"
   ]
  },
  {
   "cell_type": "markdown",
   "metadata": {},
   "source": [
    "Okay, we manage to load the data (you can read more about the `load` [here](https://docs.scipy.org/doc/numpy/reference/generated/numpy.load.html). But it is not a necessity). We are going to use linear models to work with it, but firstly we need to come up with idea what features should we include in the model at all (which feature the price is lineary dependent on):"
   ]
  },
  {
   "cell_type": "markdown",
   "metadata": {},
   "source": [
    "Do not forget to install seaborn. You can do that by running `pip install seaborn` in the command line locally, or simply by running the next sell:"
   ]
  },
  {
   "cell_type": "code",
   "execution_count": 3,
   "metadata": {},
   "outputs": [
    {
     "name": "stdout",
     "output_type": "stream",
     "text": [
      "Requirement already satisfied: seaborn in c:\\users\\dmitrii\\anaconda3\\lib\\site-packages (0.10.0)\n",
      "Requirement already satisfied: numpy>=1.13.3 in c:\\users\\dmitrii\\anaconda3\\lib\\site-packages (from seaborn) (1.18.1)\n",
      "Requirement already satisfied: scipy>=1.0.1 in c:\\users\\dmitrii\\anaconda3\\lib\\site-packages (from seaborn) (1.4.1)\n",
      "Requirement already satisfied: pandas>=0.22.0 in c:\\users\\dmitrii\\anaconda3\\lib\\site-packages (from seaborn) (1.0.1)\n",
      "Requirement already satisfied: matplotlib>=2.1.2 in c:\\users\\dmitrii\\anaconda3\\lib\\site-packages (from seaborn) (3.1.3)\n",
      "Requirement already satisfied: python-dateutil>=2.6.1 in c:\\users\\dmitrii\\anaconda3\\lib\\site-packages (from pandas>=0.22.0->seaborn) (2.8.1)\n",
      "Requirement already satisfied: pytz>=2017.2 in c:\\users\\dmitrii\\anaconda3\\lib\\site-packages (from pandas>=0.22.0->seaborn) (2019.3)\n",
      "Requirement already satisfied: pyparsing!=2.0.4,!=2.1.2,!=2.1.6,>=2.0.1 in c:\\users\\dmitrii\\anaconda3\\lib\\site-packages (from matplotlib>=2.1.2->seaborn) (2.4.6)\n",
      "Requirement already satisfied: kiwisolver>=1.0.1 in c:\\users\\dmitrii\\anaconda3\\lib\\site-packages (from matplotlib>=2.1.2->seaborn) (1.1.0)\n",
      "Requirement already satisfied: cycler>=0.10 in c:\\users\\dmitrii\\anaconda3\\lib\\site-packages (from matplotlib>=2.1.2->seaborn) (0.10.0)\n",
      "Requirement already satisfied: six>=1.5 in c:\\users\\dmitrii\\anaconda3\\lib\\site-packages (from python-dateutil>=2.6.1->pandas>=0.22.0->seaborn) (1.14.0)\n",
      "Requirement already satisfied: setuptools in c:\\users\\dmitrii\\anaconda3\\lib\\site-packages (from kiwisolver>=1.0.1->matplotlib>=2.1.2->seaborn) (45.2.0.post20200210)\n"
     ]
    }
   ],
   "source": [
    "!pip install seaborn"
   ]
  },
  {
   "cell_type": "markdown",
   "metadata": {},
   "source": [
    "In order to do it let us plot every feature vs the price. Firstly, we import nice plotting modules:"
   ]
  },
  {
   "cell_type": "code",
   "execution_count": 4,
   "metadata": {},
   "outputs": [],
   "source": [
    "import matplotlib.pyplot as plt\n",
    "import seaborn as sns\n",
    "sns.set()\n",
    "\n",
    "%matplotlib inline"
   ]
  },
  {
   "cell_type": "code",
   "execution_count": 6,
   "metadata": {},
   "outputs": [
    {
     "data": {
      "image/png": "[encoded data removed]",
      "text/plain": [
       "<Figure size 1152x1152 with 16 Axes>"
      ]
     },
     "metadata": {
      "needs_background": "light"
     },
     "output_type": "display_data"
    }
   ],
   "source": [
    "f, ax=plt.subplots(4, 4, figsize=(16,16))\n",
    "\n",
    "for i, name in enumerate(datX.columns):\n",
    "    ax[i//4][i%4].scatter(datX[name], y)\n",
    "    ax[i//4][i%4].set_title(name)"
   ]
  },
  {
   "cell_type": "markdown",
   "metadata": {},
   "source": [
    "Let us say, that we choose to work the following set of features:\n",
    "+ `bedrooms`\n",
    "+ `bathrooms`\n",
    "+ `sqft_living`\n",
    "+ `floors`\n",
    "+ `condition`\n",
    "+ `grade`\n",
    "+ `sqft_above`\n",
    "+ `sqft_basement`\n",
    "+ `long`\n",
    "+ `lat`\n",
    "\n",
    "Clear the dataset from all the other features and create:\n",
    "1. matrix $X$, all elements should be real numbers\n",
    "2. number $N$ -- number of considered houses\n",
    "3. number $m$ -- number of new features\n",
    "\n",
    "**Hint**: it is easier to clean columns from dataset (you should look [here](https://pandas.pydata.org/pandas-docs/stable/user_guide/indexing.html) for insipration) and the get a matrix with `.values`"
   ]
  },
  {
   "cell_type": "code",
   "execution_count": 5,
   "metadata": {},
   "outputs": [],
   "source": [
    "#your code goes here\n",
    "datX = datX.drop(['date','sqft_lot','waterfront','yr_built','yr_renovated','zipcode'], axis=1)\n",
    "X=datX.values\n",
    "N=datX.shape[0]\n",
    "m=datX.shape[1]"
   ]
  },
  {
   "cell_type": "markdown",
   "metadata": {},
   "source": [
    "Run the following cell to automatically check results of your code:"
   ]
  },
  {
   "cell_type": "code",
   "execution_count": 7,
   "metadata": {},
   "outputs": [
    {
     "name": "stdout",
     "output_type": "stream",
     "text": [
      "All passed\n",
      "Total check:  3 /3\n"
     ]
    }
   ],
   "source": [
    "from checker import Reader\n",
    "Reader(X,N,m)"
   ]
  },
  {
   "cell_type": "markdown",
   "metadata": {},
   "source": [
    "Consider that we are interested in the loss of the model we discussed in the video:\n",
    "\n",
    "+ Assume we have input data that is denoted as $\\vec{x}_1, \\vec{x}_2, \\ldots, \\vec{x}_N$\n",
    "+ House prices for this input data are known $y_1, y_2, \\ldots, y_N$\n",
    "\n",
    "We propose a **simple linear model** for this task:\n",
    "\n",
    "$$ \\hat{y}_i=w_0+w_1x_1+w_2x_2+\\ldots+w_mx_m $$\n",
    "\n",
    "As a loss function we will use the mean squared error (**MSE**):\n",
    "\n",
    "$$\n",
    "Loss(\\vec{w})=\\frac{1}{N}\\sum_{i=1}^N (y_i-\\hat{y}_i)^2\n",
    "$$\n",
    "\n",
    "### Task 2. Compute analytically the $Loss(\\vec{w})$ function\n",
    "Please, keep the signature of the function and enter the code only under `your code goes here`. \n",
    "**Attention**: try to avoid usage of `for` cycles! The easiest way to do it is by using matrix operations.\n",
    "\n",
    "_Hint_: to get nice $w_0$ coefficient it is convinient to add to the `X` matrix the column of 1 with `np.concatenate` [documentation](https://docs.scipy.org/doc/numpy/reference/generated/numpy.concatenate.html)"
   ]
  },
  {
   "cell_type": "code",
   "execution_count": 8,
   "metadata": {},
   "outputs": [],
   "source": [
    "def loss(w, X, y):\n",
    "    # your code goes here\n",
    "    arr_ones = np.ones((N, 1))\n",
    "    A = np.concatenate([arr_ones, X], axis=1)\n",
    "    lossValue = np.sum(np.power(y-np.dot(A,w), 2))/N\n",
    "    return lossValue"
   ]
  },
  {
   "cell_type": "markdown",
   "metadata": {},
   "source": [
    "Run the following cell to automatically check results of your code:"
   ]
  },
  {
   "cell_type": "code",
   "execution_count": 9,
   "metadata": {},
   "outputs": [
    {
     "name": "stdout",
     "output_type": "stream",
     "text": [
      "Random test  0 :  OK, time_User= 0.0029926300048828125 s;  timeBaseline= 0.0009975433349609375 s\n",
      "Random test  1 :  OK, time_User= 0.001992940902709961 s;  timeBaseline= 0.0009987354278564453 s\n",
      "Random test  2 :  OK, time_User= 0.0019948482513427734 s;  timeBaseline= 0.0009965896606445312 s\n",
      "Random test  3 :  OK, time_User= 0.0009968280792236328 s;  timeBaseline= 0.0009970664978027344 s\n",
      "Random test  4 :  OK, time_User= 0.0009975433349609375 s;  timeBaseline= 0.0019958019256591797 s\n",
      "Random test  5 :  OK, time_User= 0.0010275840759277344 s;  timeBaseline= 0.0009658336639404297 s\n",
      "Random test  6 :  OK, time_User= 0.0009970664978027344 s;  timeBaseline= 0.0009987354278564453 s\n",
      "Random test  7 :  OK, time_User= 0.0019941329956054688 s;  timeBaseline= 0.0009980201721191406 s\n",
      "Random test  8 :  OK, time_User= 0.0009961128234863281 s;  timeBaseline= 0.0009975433349609375 s\n",
      "Random test  9 :  OK, time_User= 0.0019943714141845703 s;  timeBaseline= 0.0009968280792236328 s\n",
      "All passed\n",
      "Total check:  10 /10\n"
     ]
    }
   ],
   "source": [
    "from checker import lossOK\n",
    "lossOK(loss, X, y)"
   ]
  },
  {
   "cell_type": "markdown",
   "metadata": {},
   "source": [
    "### Task 3. Compute analyticaly the gradient of the $Loss(\\vec{w})$\n",
    "Please, enter your answer in the cell below (it should be a `markdown` cell). You can either specify each partial derivative $\\frac{\\partial Loss}{\\partial w_i}$ or $\\nabla Loss$ altogether using matrix operations."
   ]
  },
  {
   "cell_type": "markdown",
   "metadata": {},
   "source": [
    "$$\\frac{\\partial Loss}{\\partial w_i} = \\frac{d}{d w_i} (y-\\sum_{j=0}^{m} w_j x_j)^2 = -2(y-\\sum_{j=0}^{m} w_j x_j)x_i$$"
   ]
  },
  {
   "cell_type": "markdown",
   "metadata": {},
   "source": [
    "### Task 4. Write a function to compute the gradient of the Loss function in the given point\n",
    "Please, keep the signature of the function and enter the code only under `your code goes here`. \n",
    "**Attention**: try to avoid usage of `for` cycles! The easiest way to do it is by using matrix operations."
   ]
  },
  {
   "cell_type": "code",
   "execution_count": 20,
   "metadata": {},
   "outputs": [],
   "source": [
    "def grad(w_k, X, y):\n",
    "    #your code goes here\n",
    "    arr_ones = np.ones((N, 1))\n",
    "    A = np.concatenate([arr_ones, X], axis=1)\n",
    "    lossGradient = -2*(A.T.dot(y-A.dot(w_k)))/N\n",
    "    #print(w_k)\n",
    "    return lossGradient"
   ]
  },
  {
   "cell_type": "markdown",
   "metadata": {},
   "source": [
    "Run the following cell to automatically check your function. You will also see time comparison: if your function works sufficiently slower, you probably should think of faster alternative."
   ]
  },
  {
   "cell_type": "code",
   "execution_count": 18,
   "metadata": {},
   "outputs": [
    {
     "name": "stdout",
     "output_type": "stream",
     "text": [
      "[0.00506102 0.94458074 0.57874729 0.29602262 0.46532002 0.74289047\n",
      " 0.11541446 0.84785478 0.22576182 0.44526471 0.10349106]\n",
      "Random test  0 :  OK, time_User= 0.001996278762817383 s;  timeBaseline= 0.0009961128234863281 s\n",
      "[0.12872448 0.77955021 0.44968494 0.45058684 0.89145955 0.34427192\n",
      " 0.35513124 0.88933922 0.26787156 0.77152569 0.85909672]\n",
      "Random test  1 :  OK, time_User= 0.001993894577026367 s;  timeBaseline= 0.0 s\n",
      "[0.23395197 0.48791924 0.18457522 0.81176681 0.85390451 0.57679523\n",
      " 0.07046198 0.55696071 0.20524093 0.01227354 0.68108218]\n",
      "Random test  2 :  OK, time_User= 0.000997781753540039 s;  timeBaseline= 0.000995635986328125 s\n",
      "[0.05408056 0.06977586 0.82224309 0.73676174 0.29141517 0.42624839\n",
      " 0.39849211 0.24438477 0.05239643 0.87521213 0.87208374]\n",
      "Random test  3 :  OK, time_User= 0.000997304916381836 s;  timeBaseline= 0.0009975433349609375 s\n",
      "[0.43082416 0.79146471 0.70170057 0.57330575 0.01063463 0.73760859\n",
      " 0.42197538 0.99482758 0.06725473 0.82505582 0.03052005]\n",
      "Random test  4 :  OK, time_User= 0.000997304916381836 s;  timeBaseline= 0.000997304916381836 s\n",
      "[0.20635962 0.98157592 0.14422181 0.94988287 0.57222557 0.78136256\n",
      " 0.2261502  0.43025657 0.8218229  0.62365084 0.16780405]\n",
      "Random test  5 :  OK, time_User= 0.0019941329956054688 s;  timeBaseline= 0.0 s\n",
      "[0.01963406 0.78986002 0.057296   0.39275596 0.21615014 0.89624807\n",
      " 0.51465201 0.61742339 0.37667457 0.07994609 0.352083  ]\n",
      "Random test  6 :  OK, time_User= 0.0009982585906982422 s;  timeBaseline= 0.0009965896606445312 s\n",
      "[0.82774456 0.94217079 0.87677987 0.97813115 0.86452775 0.06485591\n",
      " 0.32628308 0.506681   0.66344418 0.73609666 0.93882427]\n",
      "Random test  7 :  OK, time_User= 0.0009975433349609375 s;  timeBaseline= 0.0009965896606445312 s\n",
      "[0.17338067 0.45085138 0.14732552 0.18182698 0.70645804 0.42368705\n",
      " 0.19551622 0.61520258 0.17320038 0.33725046 0.42786122]\n",
      "Random test  8 :  OK, time_User= 0.0009984970092773438 s;  timeBaseline= 0.0009963512420654297 s\n",
      "[0.07593277 0.68094924 0.82531702 0.50102101 0.36052635 0.25415164\n",
      " 0.42195564 0.4001642  0.32189633 0.55742835 0.28305265]\n",
      "Random test  9 :  OK, time_User= 0.0009984970092773438 s;  timeBaseline= 0.000997304916381836 s\n",
      "All passed\n",
      "Total check:  10 /10\n"
     ]
    }
   ],
   "source": [
    "from checker import gradOK    \n",
    "gradOK(grad, X, y)"
   ]
  },
  {
   "cell_type": "markdown",
   "metadata": {},
   "source": [
    "### Task 5. Write gradient descent\n",
    "How it is time to formulate the gradient descent! As you remeember, the idea here is that:\n",
    "$$\n",
    "\\vec{w}^{k+1}=\\vec{w}^{k}-\\alpha_k\\cdot \\nabla Loss(\\vec{w}^{k})\n",
    "$$\n",
    "We propose that you use constant $\\alpha_k=\\alpha$. Assume that the method should stop in two cases:\n",
    "+ if the number of iterations is to high (`maxiter`)\n",
    "+ if the length of the gradient is low enough (<`eps`) to call an extremum\n",
    "\n",
    "Please, keep the signature of the function and enter the code only under `your code goes here`. "
   ]
  },
  {
   "cell_type": "code",
   "execution_count": 12,
   "metadata": {},
   "outputs": [],
   "source": [
    "def gradDescent(w_init, alpha, X, y, maxiter=500, eps=1e-2):\n",
    "    losses=[]\n",
    "    weights=[w_init]\n",
    "    \n",
    "    curiter=0\n",
    "    w_k=weights[-1]\n",
    "    \n",
    "    #your code goes here\n",
    "    while curiter < maxiter or np.linalg.norm(grad(w_k, X, y)) > eps:\n",
    "        w_k = w_k-alpha*grad(w_k, X, y)\n",
    "        lossValue_k = loss(w_k, X, y)\n",
    "        curiter+=1\n",
    "        weights.append(w_k)\n",
    "        losses.append(lossValue_k)\n",
    "    \n",
    "    return weights, losses"
   ]
  },
  {
   "cell_type": "markdown",
   "metadata": {},
   "source": [
    "Experiment with several alphas and several intial values of weights. To illustrate, provide graphs for the Loss function over iterations in each case (and, optionally, the distance between weigths from one iteration to the next):\n",
    "\n",
    "(we provided all key plotting commands for you, but you can always look into [this tutorial](https://matplotlib.org/tutorials/introductory/usage.html#sphx-glr-tutorials-introductory-usage-py))"
   ]
  },
  {
   "cell_type": "code",
   "execution_count": null,
   "metadata": {},
   "outputs": [
    {
     "name": "stderr",
     "output_type": "stream",
     "text": [
      "C:\\Users\\Dmitrii\\anaconda3\\lib\\site-packages\\ipykernel_launcher.py:5: RuntimeWarning: overflow encountered in power\n",
      "  \"\"\"\n",
      "C:\\Users\\Dmitrii\\anaconda3\\lib\\site-packages\\numpy\\core\\fromnumeric.py:90: RuntimeWarning: overflow encountered in reduce\n",
      "  return ufunc.reduce(obj, axis, dtype, out, **passkwargs)\n"
     ]
    }
   ],
   "source": [
    "plt.figure(figsize=(8,8))\n",
    "\n",
    "#your code goes here\n",
    "\n",
    "plt.plot(gradDescent(np.array([0.43082416, 0.79146471, 0.70170057, 0.57330575, 0.01063463, 0.73760859, 0.42197538, 0.99482758, 0.06725473, 0.82505582, 0.03052005]).reshape((11,1)), 0.1, X, y))\n",
    "#plt.xlabel(...)\n",
    "#plt.ylabel(...)\n",
    "plt.legend()"
   ]
  },
  {
   "cell_type": "markdown",
   "metadata": {},
   "source": [
    "Let us check the adequacy of the model we created.\n",
    "\n",
    "Choose several (no less then five) houses (inputs in your `X` matrix) and calculte predicted prices by:\n",
    "\n",
    "$$ \\hat{y}_i=w_0+w_1x_1+w_2x_2+\\ldots+w_mx_m $$"
   ]
  },
  {
   "cell_type": "code",
   "execution_count": null,
   "metadata": {},
   "outputs": [],
   "source": [
    "### your code goes here"
   ]
  },
  {
   "cell_type": "markdown",
   "metadata": {},
   "source": [
    "Compare predicted values with an actual answer (stored in your `y` array). Is it satisfying enough?"
   ]
  },
  {
   "cell_type": "markdown",
   "metadata": {},
   "source": []
  },
  {
   "cell_type": "markdown",
   "metadata": {},
   "source": [
    "### Task 6. Discussion\n",
    "Answer following questions:\n",
    "1. Does your method converge at least for some alpha? If not, what might be the workaround?\n",
    "2. How does changing of the alpha influence the speed of convergence?\n",
    "3. Are the optimal weights in all convergent cases the same?\n",
    "4. How does this affect the Loss function?"
   ]
  },
  {
   "cell_type": "markdown",
   "metadata": {},
   "source": []
  }
 ],
 "metadata": {
  "kernelspec": {
   "display_name": "Python 3",
   "language": "python",
   "name": "python3"
  },
  "language_info": {
   "codemirror_mode": {
    "name": "ipython",
    "version": 3
   },
   "file_extension": ".py",
   "mimetype": "text/x-python",
   "name": "python",
   "nbconvert_exporter": "python",
   "pygments_lexer": "ipython3",
   "version": "3.7.6"
  }
 },
 "nbformat": 4,
 "nbformat_minor": 2
}
